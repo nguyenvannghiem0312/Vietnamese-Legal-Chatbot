{
 "cells": [
  {
   "cell_type": "code",
   "execution_count": 1,
   "metadata": {},
   "outputs": [
    {
     "name": "stdout",
     "output_type": "stream",
     "text": [
      "Connect to DB Sucessful\n",
      "1. Hồ sơ đăng ký xe máy chuyên dùng lần đầu bao gồm:\n",
      "a) Tờ khai đăng ký xe máy chuyên dùng theo mẫu số 2 của Phụ lục 2 ban hành kèm theo Thông tư này;\n",
      "b) Bản chính giấy tờ xác định quyền sở hữu xe máy chuyên dùng theo quy định tại Điều 3 của Thông tư này trừ các trường hợp quy định tại khoản 3 Điều 19 của Thông tư này;\n",
      "c) Bản chính giấy tờ xác định nguồn gốc xe máy chuyên dùng theo quy định tại Điều 4 của Thông tư này trừ các trường hợp quy định tại khoản 3 Điều 19 của Thông tư này.\n",
      "2. Xe máy chuyên dùng được tạm nhập, tái xuất thuộc các chương trình dự án của nước ngoài đầu tư tại Việt Nam, các dự án ODA đầu tư tại Việt Nam phải thực hiện đăng ký có thời hạn. Hồ sơ đăng ký bao gồm:\n",
      "a) Tờ khai đăng ký có thời hạn xe máy chuyên dùng theo mẫu số 3 của Phụ lục 2 ban hành kèm theo Thông tư này;\n",
      "b) Giấy phép đầu tư hoặc Giấy chứng nhận đăng ký đầu tư (bản sao và xuất trình bản chính để đối chiếu hoặc bản sao có chứng thực);\n",
      "c) Bản chính giấy tờ xác định quyền sở hữu xe máy chuyên dùng theo quy định tại Điều 3 Thông tư này trừ các trường hợp quy định tại khoản 3 Điều 19 của Thông tư này;\n",
      "d) Bản chính giấy tờ xác định nguồn gốc xe máy chuyên dùng theo quy định tại Điều 4 của Thông tư này trừ các trường hợp quy định tại khoản 3 Điều 19 của Thông tư này.\n",
      "3. Xe máy chuyên dùng chưa đăng ký, khi di chuyển trên đường bộ phải được đăng ký tạm thời. Hồ sơ đăng ký bao gồm:\n",
      "a) Tờ khai cấp Giấy chứng nhận đăng ký tạm thời xe máy chuyên dùng theo mẫu số 4 của Phụ lục 2 ban hành kèm theo Thông tư này;\n",
      "b) Giấy tờ xác định quyền sở hữu xe máy chuyên dùng theo quy định tại Điều 3 của Thông tư này (bản sao và xuất trình bản chính để đối chiếu hoặc bản sao có chứng thực);\n",
      "c) Giấy tờ xác định nguồn gốc xe máy chuyên dùng theo quy định tại Điều 4 của Thông tư này (bản sao và xuất trình bản chính để đối chiếu hoặc bản sao có chứng thực).\n"
     ]
    }
   ],
   "source": [
    "from tqdm import tqdm\n",
    "\n",
    "import psycopg2\n",
    "from sqlalchemy import make_url\n",
    "\n",
    "from llama_index.embeddings.huggingface import HuggingFaceEmbedding\n",
    "from llama_index.core.vector_stores import VectorStoreQuery\n",
    "from llama_index.vector_stores.postgres import PGVectorStore\n",
    "from llama_index.core.node_parser import SentenceSplitter\n",
    "from llama_index.core.schema import TextNode\n",
    "\n",
    "if __name__ == \"__main__\":\n",
    "    db_name = \"vector_db\"\n",
    "    host = \"localhost\"\n",
    "    password = \"12345678\"\n",
    "    port = \"5432\"\n",
    "    user = \"postgres\"\n",
    "\n",
    "    conn = psycopg2.connect(\n",
    "        dbname=\"postgres\",\n",
    "        host=host,\n",
    "        password=password,\n",
    "        port=port,\n",
    "        user=user,\n",
    "    )\n",
    "    print(\"Connect to DB Successful\")\n",
    "    conn.autocommit = True\n",
    "\n",
    "    vector_store = PGVectorStore.from_params(\n",
    "        database=db_name,\n",
    "        host=host,\n",
    "        password=password,\n",
    "        port=port,\n",
    "        user=user,\n",
    "        table_name=\"test\",\n",
    "        embed_dim=768,  \n",
    "    )\n",
    "\n",
    "    embed_model = HuggingFaceEmbedding(model_name=\"bkai-foundation-models/vietnamese-bi-encoder\")\n",
    "\n",
    "    query_str = \"Cần chạy xe tới khi đi đăng ký xe máy hay không?\"\n",
    "    \n",
    "    query_embedding = embed_model.get_query_embedding(query_str)\n",
    "\n",
    "    query_mode = \"default\"\n",
    "    # query_mode = \"sparse\"\n",
    "    # query_mode = \"hybrid\"\n",
    "\n",
    "    vector_store_query = VectorStoreQuery(\n",
    "        query_embedding=query_embedding, similarity_top_k=2, mode=query_mode\n",
    "    )\n",
    "\n",
    "    query_result = vector_store.query(vector_store_query)\n",
    "    print(query_result.nodes[0].get_content())"
   ]
  },
  {
   "cell_type": "code",
   "execution_count": 8,
   "metadata": {},
   "outputs": [],
   "source": [
    "from llama_index.core.schema import NodeWithScore\n",
    "from typing import Optional\n",
    "\n",
    "nodes_with_scores = []\n",
    "for index, node in enumerate(query_result.nodes):\n",
    "    score: Optional[float] = None\n",
    "    if query_result.similarities is not None:\n",
    "        score = query_result.similarities[index]\n",
    "    nodes_with_scores.append(NodeWithScore(node=node, score=score))"
   ]
  },
  {
   "cell_type": "code",
   "execution_count": null,
   "metadata": {},
   "outputs": [],
   "source": []
  }
 ],
 "metadata": {
  "kernelspec": {
   "display_name": "base",
   "language": "python",
   "name": "python3"
  },
  "language_info": {
   "codemirror_mode": {
    "name": "ipython",
    "version": 3
   },
   "file_extension": ".py",
   "mimetype": "text/x-python",
   "name": "python",
   "nbconvert_exporter": "python",
   "pygments_lexer": "ipython3",
   "version": "3.10.9"
  }
 },
 "nbformat": 4,
 "nbformat_minor": 2
}
