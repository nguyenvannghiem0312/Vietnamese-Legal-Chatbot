{
 "cells": [
  {
   "cell_type": "code",
   "execution_count": 1,
   "metadata": {},
   "outputs": [
    {
     "name": "stdout",
     "output_type": "stream",
     "text": [
      "[12676] 2024-05-17 10:58:53,850 - exampleLogger - INFO - Đây là một thông điệp info.\n",
      "[12676] 2024-05-17 10:58:53,851 - exampleLogger - WARNING - Đây là một thông điệp cảnh báo.\n",
      "[12676] 2024-05-17 10:58:53,853 - exampleLogger - ERROR - Đây là một thông điệp lỗi.\n",
      "[12676] 2024-05-17 10:58:53,854 - debugLogger - DEBUG - Đây là một thông điệp debug.\n",
      "[12676] 2024-05-17 10:58:53,856 - debugLogger - INFO - Đây là một thông điệp info khác.\n",
      "[12676] 2024-05-17 10:58:53,857 - anotherLogger - INFO - Đây là một thông điệp info từ logger khác.\n"
     ]
    }
   ],
   "source": [
    "from log import get_logger\n",
    "# Ví dụ 1: Sử dụng cơ bản với mức độ log mặc định (INFO)\n",
    "logger = get_logger(\"exampleLogger\")\n",
    "logger.info(\"Đây là một thông điệp info.\")\n",
    "logger.warning(\"Đây là một thông điệp cảnh báo.\")\n",
    "logger.error(\"Đây là một thông điệp lỗi.\")\n",
    "\n",
    "# Ví dụ 2: Đặt mức độ log thành DEBUG qua biến môi trường\n",
    "import os\n",
    "os.environ[\"LOGLEVEL\"] = \"DEBUG\"\n",
    "debug_logger = get_logger(\"debugLogger\")\n",
    "debug_logger.debug(\"Đây là một thông điệp debug.\")  # Thông điệp này sẽ được in ra vì mức độ log đã đặt thành DEBUG\n",
    "debug_logger.info(\"Đây là một thông điệp info khác.\")\n",
    "\n",
    "# Ví dụ 3: Logger với tên khác\n",
    "another_logger = get_logger(\"anotherLogger\")\n",
    "another_logger.info(\"Đây là một thông điệp info từ logger khác.\")\n"
   ]
  },
  {
   "cell_type": "code",
   "execution_count": null,
   "metadata": {},
   "outputs": [],
   "source": []
  }
 ],
 "metadata": {
  "kernelspec": {
   "display_name": "base",
   "language": "python",
   "name": "python3"
  },
  "language_info": {
   "codemirror_mode": {
    "name": "ipython",
    "version": 3
   },
   "file_extension": ".py",
   "mimetype": "text/x-python",
   "name": "python",
   "nbconvert_exporter": "python",
   "pygments_lexer": "ipython3",
   "version": "3.10.9"
  }
 },
 "nbformat": 4,
 "nbformat_minor": 2
}
