{
 "cells": [
  {
   "cell_type": "code",
   "execution_count": 1,
   "metadata": {},
   "outputs": [],
   "source": [
    "from dbvector_builder import load_documents, split_chunks, build_memory_index"
   ]
  },
  {
   "cell_type": "code",
   "execution_count": 2,
   "metadata": {},
   "outputs": [
    {
     "name": "stderr",
     "output_type": "stream",
     "text": [
      "Found cached dataset parquet (C:/Users/PC/.cache/huggingface/datasets/NghiemAbe___parquet/NghiemAbe--dev_legal-6cf18d2dbd134a79/0.0.0/2a3b91fbd88a2c90d1dbbb32b460cf621d31bd5b05b934492fdef7d8d6f236ec)\n"
     ]
    },
    {
     "data": {
      "application/vnd.jupyter.widget-view+json": {
       "model_id": "7227cc322bdb4c588226209200a8c720",
       "version_major": 2,
       "version_minor": 0
      },
      "text/plain": [
       "  0%|          | 0/2 [00:00<?, ?it/s]"
      ]
     },
     "metadata": {},
     "output_type": "display_data"
    }
   ],
   "source": [
    "documents = load_documents(docs_path='NghiemAbe/dev_legal', file_type='huggingface')\n",
    "# print(documents[0].content)"
   ]
  },
  {
   "cell_type": "code",
   "execution_count": 3,
   "metadata": {},
   "outputs": [
    {
     "name": "stdout",
     "output_type": "stream",
     "text": [
      "Người hiến máu là người có đủ tiêu chuẩn về tuổi, sức khỏe và các điều kiện khác, cụ thể như sau:\n",
      "1. Tuổi: từ đủ 18 tuổi đến 60 tuổi.\n",
      "2. Sức khỏe:\n",
      "a) Người có cân nặng ít nhất là 42 kg đối với phụ nữ, 45 kg đối với nam giới được phép hiến máu toàn phần; người có cân nặng từ 42 kg đến dưới 45 kg được phép hiến không quá 250 ml máu toàn phần mỗi lần; người có cân nặng 45 kg trở lên được phép hiến máu toàn phần không quá 09 ml/kg cân nặng và không quá 500ml mỗi lần.\n",
      "b) Người có cân nặng ít nhất là 50 kg được phép hiến các thành phần máu bằng gạn tách; người hiến máu có thể hiến một hoặc nhiều thành phần máu trong mỗi lần gạn tách, nhưng tổng thể tích các thành phần máu hiến không quá 500 ml; Người có cân nặng ít nhất là 60 kg được phép hiến tổng thể tích các thành phần máu hiến mỗi lần không quá 650 ml.\n",
      "c) Không mắc các bệnh mạn tính hoặc cấp tính về thần kinh, tâm thần, hô hấp, tuần hoàn, tiết niệu, tiêu hoá, gan mật, nội tiết, máu và tổ chức tạo máu, bệnh hệ thống, bệnh tự miễn, tình trạng dị ứng nặng; không mang thai vào thời điểm đăng ký hiến máu (đối với phụ nữ); không có tiền sử lấy, hiến, ghép bộ phận cơ thể người; không nghiện ma tuý, nghiện rượu; không có khuyết tật nặng và khuyết tật đặc biệt nặng theo quy định tại Luật Người khuyết tật; không sử dụng một số thuốc được quy định tại Phụ lục 1 ban hành kèm theo Thông tư này; không mắc các bệnh lây truyền qua đường máu, các bệnh lây truyền qua đường tình dục tại thời điểm đăng ký hiến máu;\n",
      "d) Lâm sàng:\n",
      "- Tỉnh táo, tiếp xúc tốt;\n",
      "- Huyết áp tâm thu trong khoảng từ 100 mmHg đến dưới 160 mmHg và tâm trương trong khoảng từ 60 mmHg đến dưới 100 mmHg;\n",
      "- Nhịp tim đều, tần số trong khoảng từ 60 lần đến 90 lần/phút;\n",
      "- Không có một trong các biểu hiện sau: gày, sút cân nhanh (trên 10% cân nặng cơ thể trong thời gian 6 tháng); da xanh, niêm mạc nhợt; hoa mắt, chóng mặt; vã mồ hôi trộm; hạch to xuất hiện nhiều nơi; sốt; phù; ho, khó thở; tiêu chảy; xuất huyết các loại; có các tổn thương, dấu hiệu bất thường trên da.\n",
      "đ) Xét nghiệm:\n",
      "- Đối với người hiến máu toàn phần và hiến các thành phần máu bằng gạn tách: nồng độ hemoglobin phải đạt ít nhất bằng 120 g/l; nếu hiến máu toàn phần thể tích trên 350 ml phải đạt ít nhất 125 g/l.\n",
      "- Đối với người hiến huyết tương bằng gạn tách: nồng độ protein huyết thanh toàn phần phải đạt ít nhất bằng 60g/l và được xét nghiệm trong thời gian không quá 01 tháng;\n",
      "- Đối với người hiến tiểu cầu, bạch cầu hạt, tế bào gốc bằng gạn tách: số lượng tiểu cầu phải lớn hơn hoặc bằng 150´109/l.\n",
      "3. Ngoài các tiêu chuẩn quy định tại Khoản 1, Khoản 2 Điều này, việc được hiến máu do bác sỹ khám tuyển chọn người hiến máu xem xét, quyết định.\n",
      "{'source': 'NghiemAbe/dev_legal', 'id': 'e182b54a857449abac1d474a83311c72'}\n"
     ]
    }
   ],
   "source": [
    "print(documents[0].content)\n",
    "\n",
    "print(documents[0].metadata)"
   ]
  },
  {
   "cell_type": "code",
   "execution_count": 4,
   "metadata": {},
   "outputs": [
    {
     "data": {
      "text/plain": [
       "4264"
      ]
     },
     "execution_count": 4,
     "metadata": {},
     "output_type": "execute_result"
    }
   ],
   "source": [
    "len(documents)"
   ]
  },
  {
   "cell_type": "code",
   "execution_count": 14,
   "metadata": {},
   "outputs": [
    {
     "name": "stderr",
     "output_type": "stream",
     "text": [
      "Split corpus: 100%|██████████| 4264/4264 [00:04<00:00, 990.44it/s] \n"
     ]
    }
   ],
   "source": [
    "chunks = split_chunks(documents, chunk_size=1024, chunk_overlap=256)"
   ]
  },
  {
   "cell_type": "code",
   "execution_count": 15,
   "metadata": {},
   "outputs": [
    {
     "name": "stdout",
     "output_type": "stream",
     "text": [
      "Người hiến máu là người có đủ tiêu chuẩn về tuổi, sức khỏe và các điều kiện khác, cụ thể như sau:\n",
      "1. Tuổi: từ đủ 18 tuổi đến 60 tuổi.\n",
      "2. Sức khỏe:\n",
      "a) Người có cân nặng ít nhất là 42 kg đối với phụ nữ, 45 kg đối với nam giới được phép hiến máu toàn phần; người có cân nặng từ 42 kg đến dưới 45 kg được phép hiến không quá 250 ml máu toàn phần mỗi lần; người có cân nặng 45 kg trở lên được phép hiến máu toàn phần không quá 09 ml/kg cân nặng và không quá 500ml mỗi lần.\n",
      "b) Người có cân nặng ít nhất là 50 kg được phép hiến các thành phần máu bằng gạn tách; người hiến máu có thể hiến một hoặc nhiều thành phần máu trong mỗi lần gạn tách, nhưng tổng thể tích các thành phần máu hiến không quá 500 ml; Người có cân nặng ít nhất là 60 kg được phép hiến tổng thể tích các thành phần máu hiến mỗi lần không quá 650 ml.\n",
      "c) Không mắc các bệnh mạn tính hoặc cấp tính về thần kinh, tâm thần, hô hấp, tuần hoàn, tiết niệu, tiêu hoá, gan mật, nội tiết, máu và tổ chức tạo máu, bệnh hệ thống, bệnh tự miễn, tình trạng dị ứng nặng; không mang thai vào thời điểm đăng ký hiến máu (đối với phụ nữ); không có tiền sử lấy, hiến, ghép bộ phận cơ thể người; không nghiện ma tuý, nghiện rượu; không có khuyết tật nặng và khuyết tật đặc biệt nặng theo quy định tại Luật Người khuyết tật; không sử dụng một số thuốc được quy định tại Phụ lục 1 ban hành kèm theo Thông tư này; không mắc các bệnh lây truyền qua đường máu, các bệnh lây truyền qua đường tình dục tại thời điểm đăng ký hiến máu;\n",
      "d) Lâm sàng:\n",
      "- Tỉnh táo, tiếp xúc tốt;\n",
      "- Huyết áp tâm thu trong khoảng từ 100 mmHg đến dưới 160 mmHg và tâm trương trong khoảng từ 60 mmHg đến dưới 100 mmHg;\n",
      "- Nhịp tim đều, tần số trong khoảng từ 60 lần đến 90 lần/phút;\n",
      "- Không có một trong các biểu hiện sau: gày, sút cân nhanh (trên 10% cân nặng cơ thể trong thời gian 6 tháng); da xanh, niêm mạc nhợt; hoa mắt, chóng mặt; vã mồ hôi trộm; hạch to xuất hiện nhiều nơi; sốt; phù; ho, khó thở; tiêu chảy; xuất huyết các loại; có các tổn thương, dấu hiệu bất thường trên da.\n",
      "{'source': 'NghiemAbe/dev_legal', 'id': 'e182b54a857449abac1d474a83311c72'}\n",
      "{'source': 'NghiemAbe/dev_legal', 'id': 'e182b54a857449abac1d474a83311c72'}\n"
     ]
    }
   ],
   "source": [
    "print(chunks[0].content)\n",
    "print(chunks[0].metadata)\n",
    "print(chunks[1].metadata)"
   ]
  },
  {
   "cell_type": "code",
   "execution_count": null,
   "metadata": {},
   "outputs": [],
   "source": [
    "build_memory_index(docs_path='NghiemAbe/dev_legal', file_type='huggingface', vector_store_path='vectordb/chroma', chunk_size=1024, chunk_overlap=256)"
   ]
  },
  {
   "cell_type": "code",
   "execution_count": null,
   "metadata": {},
   "outputs": [],
   "source": []
  }
 ],
 "metadata": {
  "kernelspec": {
   "display_name": "base",
   "language": "python",
   "name": "python3"
  },
  "language_info": {
   "codemirror_mode": {
    "name": "ipython",
    "version": 3
   },
   "file_extension": ".py",
   "mimetype": "text/x-python",
   "name": "python",
   "nbconvert_exporter": "python",
   "pygments_lexer": "ipython3",
   "version": "3.10.9"
  }
 },
 "nbformat": 4,
 "nbformat_minor": 2
}
